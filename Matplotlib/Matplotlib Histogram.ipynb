{
 "cells": [
  {
   "cell_type": "code",
   "execution_count": 1,
   "metadata": {},
   "outputs": [],
   "source": [
    "import matplotlib.pyplot as plt\n",
    "import numpy as np\n",
    "import random"
   ]
  },
  {
   "cell_type": "code",
   "execution_count": 2,
   "metadata": {},
   "outputs": [
    {
     "data": {
      "text/plain": [
       "array([22, 21, 22, 39, 34, 30, 37, 34, 23, 21, 19, 42, 20, 23, 19, 38, 25,\n",
       "       31, 35, 43, 41, 40, 43, 19, 44, 20, 18, 40, 27, 23, 29, 37, 43, 25,\n",
       "       18, 41, 18, 22, 21, 19, 34, 39, 36, 27, 33, 28, 18, 43, 26, 31, 35,\n",
       "       44, 37, 37, 33, 29, 35, 21, 39, 35, 21, 30, 20, 21, 33, 23, 39, 20,\n",
       "       28, 42, 33, 27, 35, 26, 43, 40, 23, 18, 42, 44, 23, 41, 44, 20, 35,\n",
       "       38, 18, 32, 31, 21, 41, 31, 40, 28, 37, 24, 19, 43, 34, 23])"
      ]
     },
     "execution_count": 2,
     "metadata": {},
     "output_type": "execute_result"
    }
   ],
   "source": [
    "a=np.random.randint(18,45,(100))\n",
    "a"
   ]
  },
  {
   "cell_type": "code",
   "execution_count": 3,
   "metadata": {},
   "outputs": [
    {
     "data": {
      "text/plain": [
       "array([41, 29, 22, 41, 41, 40, 30, 23, 22, 15, 34, 33, 30, 30, 33, 24, 43,\n",
       "       39, 15, 17, 34, 37, 23, 26, 42, 42, 34, 22, 32, 43, 29, 18, 29, 27,\n",
       "       16, 27, 33, 34, 41, 19, 21, 24, 39, 43, 31, 29, 39, 20, 21, 28, 34,\n",
       "       16, 32, 36, 26, 43, 43, 24, 44, 22, 39, 35, 27, 37, 19, 34, 15, 37,\n",
       "       16, 25, 42, 38, 37, 25, 36, 24, 21, 36, 39, 40, 44, 34, 18, 18, 40,\n",
       "       22, 25, 29, 25, 38, 38, 21, 15, 35, 41, 27, 24, 39, 26, 34])"
      ]
     },
     "execution_count": 3,
     "metadata": {},
     "output_type": "execute_result"
    }
   ],
   "source": [
    "c=np.random.randint(15,45,(100))\n",
    "c"
   ]
  },
  {
   "cell_type": "code",
   "execution_count": 4,
   "metadata": {},
   "outputs": [
    {
     "data": {
      "image/png": "[encoded data removed]",
      "text/plain": [
       "<Figure size 432x288 with 1 Axes>"
      ]
     },
     "metadata": {
      "needs_background": "light"
     },
     "output_type": "display_data"
    }
   ],
   "source": [
    "bins=[15,20,25,30,35,40,45]\n",
    "plt.hist(a,bins)\n",
    "plt.title('age of ml student')\n",
    "plt.xlabel('student age category')\n",
    "plt.ylabel('number of student age')\n",
    "plt.show()"
   ]
  },
  {
   "cell_type": "code",
   "execution_count": 5,
   "metadata": {},
   "outputs": [
    {
     "data": {
      "image/png": "[encoded data removed]",
      "text/plain": [
       "<Figure size 432x288 with 1 Axes>"
      ]
     },
     "metadata": {
      "needs_background": "light"
     },
     "output_type": "display_data"
    }
   ],
   "source": [
    "plt.hist(a,bins,histtype='bar',rwidth=0.8,orientation='horizontal')\n",
    "plt.show()"
   ]
  },
  {
   "cell_type": "code",
   "execution_count": 6,
   "metadata": {},
   "outputs": [
    {
     "data": {
      "image/png": "[encoded data removed]",
      "text/plain": [
       "<Figure size 432x288 with 1 Axes>"
      ]
     },
     "metadata": {
      "needs_background": "light"
     },
     "output_type": "display_data"
    }
   ],
   "source": [
    "b=[15,20,25,30,35,40,45]\n",
    "plt.hist([a,c],color=[\"r\",\"m\"],bins=b,histtype='bar',rwidth=0.8,label=['ageof ml','age of al'])\n",
    "plt.legend()\n",
    "\n",
    "plt.show()"
   ]
  },
  {
   "cell_type": "code",
   "execution_count": 22,
   "metadata": {},
   "outputs": [
    {
     "data": {
      "text/plain": [
       "array([15, 33, 18, 16, 20, 19, 36,  7, 19,  6, 27, 13, 38, 33, 12, 10,  7,\n",
       "       30,  2, 25, 36, 27, 12, 28, 24, 24, 16,  6,  7,  5])"
      ]
     },
     "execution_count": 22,
     "metadata": {},
     "output_type": "execute_result"
    }
   ],
   "source": [
    "\n",
    "m=np.arange(1,11)\n",
    "\n",
    "m2=np.random.randint(2,40,30)\n",
    "\n",
    "m2"
   ]
  },
  {
   "cell_type": "code",
   "execution_count": 20,
   "metadata": {},
   "outputs": [
    {
     "data": {
      "image/png": "[encoded data removed]",
      "text/plain": [
       "<Figure size 432x288 with 1 Axes>"
      ]
     },
     "metadata": {
      "needs_background": "light"
     },
     "output_type": "display_data"
    }
   ],
   "source": [
    "plt.hist([m,m2],color=['r','k'],label=['m','m2'],rwidth=0.8)\n",
    "plt.title(\"histogram of age\")\n",
    "plt.xlabel('x_age')\n",
    "plt.ylabel('y_age')\n",
    "plt.legend()\n",
    "plt.show()"
   ]
  },
  {
   "cell_type": "code",
   "execution_count": 23,
   "metadata": {},
   "outputs": [
    {
     "data": {
      "text/plain": [
       "array([ 1,  2,  3,  4,  5,  6,  7,  8,  9, 10])"
      ]
     },
     "execution_count": 23,
     "metadata": {},
     "output_type": "execute_result"
    }
   ],
   "source": [
    "\n",
    "m=np.arange(1,11)\n",
    "m"
   ]
  },
  {
   "cell_type": "code",
   "execution_count": null,
   "metadata": {},
   "outputs": [],
   "source": []
  }
 ],
 "metadata": {
  "kernelspec": {
   "display_name": "Python 3",
   "language": "python",
   "name": "python3"
  },
  "language_info": {
   "codemirror_mode": {
    "name": "ipython",
    "version": 3
   },
   "file_extension": ".py",
   "mimetype": "text/x-python",
   "name": "python",
   "nbconvert_exporter": "python",
   "pygments_lexer": "ipython3",
   "version": "3.8.5"
  }
 },
 "nbformat": 4,
 "nbformat_minor": 4
}
